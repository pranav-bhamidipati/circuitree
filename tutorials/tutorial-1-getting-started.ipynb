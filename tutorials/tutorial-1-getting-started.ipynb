{
  "cells": [
    {
      "cell_type": "markdown",
      "metadata": {
        "id": "3TRinuqacEl9"
      },
      "source": [
        "## Installation"
      ]
    },
    {
      "cell_type": "code",
      "execution_count": null,
      "metadata": {
        "colab": {
          "base_uri": "https://localhost:8080/"
        },
        "id": "eFfNqb6McHpA",
        "outputId": "92d2fb87-ba0a-476f-dc02-2873882910f9"
      },
      "outputs": [],
      "source": [
        "%pip install --upgrade --quiet pip\n",
        "%pip install --upgrade --quiet circuitree==0.10.0 numpy matplotlib tqdm ipympl ffmpeg moviepy   watermark"
      ]
    },
    {
      "cell_type": "markdown",
      "metadata": {
        "id": "lQnVIO_5cmCi"
      },
      "source": [
        "# Getting started\n"
      ]
    },
    {
      "cell_type": "markdown",
      "metadata": {
        "id": "_pTxMoBs4t2B"
      },
      "source": [
        "## Problem statement\n",
        "\n",
        "CircuiTree solves the following problem:\n",
        "\n",
        "> Given a phenotype that can be simulated, a reward function that measures the phenotype, and a space of possible circuit architectures, find the optimal architecture(s) to achieve that target phenotype by running a reasonable number of simulations."
      ]
    },
    {
      "cell_type": "markdown",
      "metadata": {
        "id": "uIt7IxQqc2YM"
      },
      "source": [
        "\n",
        "In order to solve this problem, CircuiTree uses a search algorithm called Monte Carlo tree search (MCTS), borrowed from artificial intelligence and reinforcement learning, to search over the space of possible architectures, or topologies. MCTS is an algorithm for planning and game-playing, so we approach circuit design as a game of stepwise assembly, where each step adds an interaction to the circuit diagram.\n",
        "\n",
        "The main class provided by this package is `CircuiTree`, and to run a tree search, the user should make their own subclass of `CircuiTree` that defines a reward function and a space of possible topologies to search."
      ]
    },
    {
      "cell_type": "code",
      "execution_count": null,
      "metadata": {
        "id": "MfzS9AGZMatj"
      },
      "outputs": [],
      "source": [
        "from circuitree import CircuiTree"
      ]
    },
    {
      "cell_type": "markdown",
      "metadata": {
        "id": "sCOpFJBdMY7D"
      },
      "source": [
        "\n",
        "Let's consider a very simple example. Say we are interested in constructing a circuit of three transcription factors (TFs) A, B, and C that exhibits bistability, where the system can be \"switched\" from one state (e.g. high A, low B) to another (high B, low A). We will allow each TF to activate or inhibit any of the TFs (including itself). Multiple regulation (A both activates and inhibits B) is not allowed. With these rules, we have defined a set of topologies (a design space) that we are sampling from.\n"
      ]
    },
    {
      "cell_type": "code",
      "execution_count": null,
      "metadata": {
        "id": "r_2S8bpkM9wq"
      },
      "outputs": [],
      "source": [
        "components = [\"A\", \"B\", \"C\"] # Three transcription factors (TFs)\n",
        "interactions = [\n",
        "    \"activates\", # Each pairwise interaction has two options\n",
        "    \"inhibits\",\n",
        "]"
      ]
    },
    {
      "cell_type": "markdown",
      "metadata": {
        "id": "ZTbXv0FbMZ8X"
      },
      "source": [
        "\n",
        "CircuiTree explores the design space by treating circuit design as a game where the topology is built step-by-step, and the objective is to assemble the best circuit. Specifically, `CircuiTree` represents each circuit topology as a string called a `state`, and it can choose from a list of `actions` that either change the `state` or terminate the assembly process (i.e. \"click submit\" on the game). The algorithm searches starting from a \"root\" state, and over many iterations it builds a decision tree of candidate topologies and preferentially explores regions of that tree with higher mean reward.\n",
        "\n",
        "The rules for how states are defined and how they are affected by taking actions (i.e. the rules of the game) are called a \"grammar.\" We will be using the built-in `SimpleNetworkGrammar` class to explore the design space we defined above. (See the grammar tutorial for more details on grammars and how to define custom design spaces from the base `CircuitGrammar` class.)\n",
        "\n",
        "<!--\n",
        "* `circuitree` treats circuit design as a game where the objective is to assemble a circuit topology with the highest probability of reward. In the game, you assemble a topology step-by-step. Starting from a root *state* of the game, you can add a new interaction to the topology diagram by choosing among the available *actions*. You always have the option of terminating the assembly sequence at the current state by choosing the \"terminate\" action, which \"clicks submit\" on the assembled topology and ends the game.\n",
        "  - [image of assembly game with state, action labeled] -->\n",
        "\n",
        "<!--\n",
        "## Example based on adaptation paper - Ma, et al. Cell (2009)\n",
        "\n",
        "* In this example, we will use MCTS to design a 4-component enzyme circuit that performs an function called adaptation. Adaptation is the ability of a system to buffer changes in an input stimulus and return to homeostatic levels.\n",
        "* In our example, an input stimulus `I` activates the enzyme `A`, which then activates the downstream \"output\" enzyme `O`, and this interaction is regulated by the enzymes `B` and `C`. All species can activate or inhibit each other using first-order Michaelis-Menten kinetics.\n",
        "  - [ODEs]\n",
        "* We assume each enzyme has an active and an inactive state, represented by e.g. $A$ and $1-A$, respectively. Reaction rates depend on...  \n",
        "* There are some more moving parts than I expected. Probably not worth implementing this whole thing in an example.\n",
        "-->\n",
        "\n",
        "<!--\n",
        "* This example is a bit more complicated. I'll start with a simpler one\n",
        "* In this exapmle, we will use MCTS to design a network of four transcription factors where the addition of an input stimulus $I$ causes a biphasic response in the output transcription factor $O$. Specifically, we use a target function $O^*(t)$ to represent the ideal dynamics - the concentration of $O$ should double, then halve, then return to baseline. For each topology, we will find the best-fit parameter set and declare success if the mean-squared deviation (MSD) between the observed $O(t)$ and $O^*(t)$ is below a threshold value of $0.1$.\n",
        "  - [System of equations for O (with input), A, B, C]\n",
        "  - [image showing O-star, an example simulation, and the least-squares fit]\n",
        "  \n",
        "\n",
        "* Specifically, we use a target function $O^*(t)$ to represent the ideal dynamics - the concentration of $O$ should double, then halve, then return to baseline. For each topology, we will find the best-fit parameter set and declare success if the mean-squared deviation (MSD) between the observed $O(t)$ and $O^*(t)$ is below a threshold value of $0.1$.\n",
        "  - [System of equations for O (with input), A, B, C]\n",
        "  - [image showing O-star, an example simulation, and the least-squares fit]\n",
        "\n",
        "  \n",
        "  -->\n"
      ]
    },
    {
      "cell_type": "code",
      "execution_count": null,
      "metadata": {
        "id": "Of8oXRrDJcCF"
      },
      "outputs": [],
      "source": [
        "# Built-in grammars can be found in the `models` module\n",
        "from circuitree.models import SimpleNetworkGrammar\n",
        "\n",
        "grammar = SimpleNetworkGrammar(\n",
        "    components=components,\n",
        "    interactions=interactions,\n",
        ")"
      ]
    },
    {
      "cell_type": "markdown",
      "metadata": {
        "id": "46wtzexDJoF-"
      },
      "source": [
        "\n",
        "Now we need to define a reward function. The reward function should return *bounded values*, ideally between 0 and 1. For our test case, bistability is known to require positive feedback. For example, positive autoregulation (A activates itself) or mutual inhibition (A inhibits B and B inhibits A). Here we will use a dummy reward function that doesn't actually compute bistability but instead just looks for the presence of positive feedback loops. The reward value will be a random number drawn from a Gaussian distribution, and we will increase the mean of that distribution for every type of positive feedback loop the topology contains. In a real scenario, the reward function might be more complex, possibly requiring multiple simulations. To mimic the computational cost of a costly evaluation, we'll introduce an optional argument `expensive` that pauses for `0.1` seconds before returning the result.\n",
        "\n",
        "<!--\n",
        "In this example, we will use MCTS to design a network of transcription factors (TFs) that produces a specific kind of oscillation called predator-prey dynamics. The predator-prey system is classically modeled in ecology using the Lotka-Volterra model, which is a system of nonlinear differential equations in which a predator species $x$ grows by consuming a prey species $y$.\n",
        "\n",
        "\\begin{align}\n",
        "\\dot{x} &= a xy - b x \\\\\n",
        "\\dot{y} &= c y - d xy\n",
        "\\end{align}\n",
        "\n",
        "Here, $b$ is the rate at which the predator species will die in the absence of prey to feed on, and $c$ is the rate at which the prey species will grow in the absence of predators. The growth of the predator population based on consuming prey depends on the parameter $a$, and the corresponding decline in prey population depends on the parameter $d$. This model predicts that under certain circumstances, the system will cycle between high-predator and high-prey conditions. -->\n"
      ]
    },
    {
      "cell_type": "code",
      "execution_count": null,
      "metadata": {
        "id": "-IvOHwxwt5re"
      },
      "outputs": [],
      "source": [
        "from time import sleep\n",
        "import numpy as np\n",
        "\n",
        "def get_bistability_reward(state, grammar, rg=None, expensive=False):\n",
        "    \"\"\"Returns a reward value for the given state (topology) based on\n",
        "    whether it contains positive-feedback loops (PFLs). Assumes the \n",
        "    state is a string in the format of SimpleNetworkGrammar.\"\"\"\n",
        "\n",
        "    # We list all types of PFLs with up to 3 components. Each three-letter \n",
        "    # substring is an interaction in the circuit, and interactions are \n",
        "    # separated by underscores.\n",
        "    patterns = [\n",
        "        \"AAa\",  # PAR - \"AAa\" means \"A activates A\"\n",
        "        \"ABi_BAi\",  # Mutual inhibition - \"A inhibits B, B inhibits A\"\n",
        "        \"ABa_BAa\",  # Mutual activation\n",
        "        \"ABa_BCa_CAa\",  # Cycle of all activation\n",
        "        \"ABa_BCi_CAi\",  # Cycle with two inhibitions\n",
        "    ]\n",
        "\n",
        "    # Mean reward increases with each PFL found (from 0.25 to 0.75)\n",
        "    mean = 0.25\n",
        "    for pattern in patterns:\n",
        "\n",
        "        # The \"has_pattern\" method returns whether state contains the pattern.\n",
        "        # It checks all possible renamings. For example, `has_pattern(s, 'AAa')`\n",
        "        # checks whether the state `s` contains 'AAa', 'BBa', or 'CCa'.\n",
        "        if grammar.has_pattern(state, pattern):\n",
        "            mean += 0.1\n",
        "\n",
        "    if expensive: # Simulate a more expensive reward calculation\n",
        "        sleep(0.1)\n",
        "\n",
        "    # Use the default random number generator if none is provided\n",
        "    rg = np.random.default_rng() if rg is None else rg\n",
        "    \n",
        "    return rg.normal(loc=mean, scale=0.1)\n",
        "\n"
      ]
    },
    {
      "cell_type": "markdown",
      "metadata": {},
      "source": [
        "Let's now make our own subclass of `CircuiTree` that uses `get_bistability_reward` as its reward function. The reward function must be a method called `get_reward`. We also need to define a function `is_success` that returns whether or not a topology is \"successful\" at generating the phenotype. We will say that a successfully bistable circuit should have a mean reward of >0.5, which we will calculate empirically as the cumulative reward divided by the number of samples, or \"visits\" to that state."
      ]
    },
    {
      "cell_type": "code",
      "execution_count": null,
      "metadata": {},
      "outputs": [],
      "source": [
        "class BistabilityTree(CircuiTree):\n",
        "    \"\"\"A subclass of CircuiTree that searches for positive feedback networks.\n",
        "    Uses the SimpleNetworkGrammar to encode network topologies. The grammar can \n",
        "    be accessed with the `self.grammar` attribute.\"\"\"\n",
        "\n",
        "    def __init__(self, *args, **kwargs):\n",
        "        kwargs = kwargs | {\"grammar\": grammar}\n",
        "        super().__init__(*args, **kwargs)\n",
        "\n",
        "    def get_reward(self, state: str, expensive: bool = False) -> float:\n",
        "        \"\"\"Returns a reward value for the given state (topology) based on\n",
        "        whether it contains positive-feedback loops (PFLs).\"\"\"\n",
        "\n",
        "        # `self.rg` is a Numpy random generator that can be seeded on initialization\n",
        "        reward = get_bistability_reward(\n",
        "            state, self.grammar, self.rg, expensive=expensive\n",
        "        )\n",
        "        return reward\n",
        "\n",
        "    def get_mean_reward(self, state: str) -> float:\n",
        "        \"\"\"Returns the mean empirical reward value for the given state.\"\"\"\n",
        "        # The search graph is stored as a `networkx.DiGraph` in the `graph`\n",
        "        # attribute. We can access the cumulative reward and # of visits for \n",
        "        # each node (state) using the `reward` and `visits` attributes.\n",
        "        return (\n",
        "          self.graph.nodes[state].get(\"reward\", 0) \n",
        "          / self.graph.nodes[state].get(\"visits\", 1)\n",
        "        )\n",
        "\n",
        "    def is_success(self, state: str) -> bool:\n",
        "        \"\"\"Returns whether a topology is a successful bistable circuit design.\"\"\"\n",
        "        if self.grammar.is_terminal(state):\n",
        "            return self.get_mean_reward(state) > 0.5\n",
        "        else:\n",
        "            return False # Ignore incomplete topologies\n"
      ]
    },
    {
      "cell_type": "markdown",
      "metadata": {
        "id": "QsHB9WslSsjq"
      },
      "source": [
        "Now we are ready to run a search! We do this using the `CircuiTree.search_mcts()` method. We need to supply a \"root\" `state` string that is the initial condition for the assembly, in this case a circuit with three TFs (A, B, and C) and no interactions. Using the SimpleNetwork format, this is represented by the string `ABC::`. We can specify any additional keyword arguments for the reward functions using the `run_kwargs` argument."
      ]
    },
    {
      "cell_type": "code",
      "execution_count": null,
      "metadata": {
        "colab": {
          "base_uri": "https://localhost:8080/"
        },
        "id": "lqLbva-xTMHj",
        "outputId": "153dab8d-38ec-42cb-ce26-d3454c8c2f99"
      },
      "outputs": [],
      "source": [
        "# Make an instance of the search tree\n",
        "tree = BistabilityTree(\n",
        "    grammar=grammar,\n",
        "    root=\"ABC::\", # The root state - 3 TFs, no interactions\n",
        "    seed=0, # Seed for the random number generator\n",
        ")\n",
        "\n",
        "# Run the search\n",
        "tree.search_mcts(\n",
        "    n_steps=50_000, \n",
        "    progress_bar=True, \n",
        "    run_kwargs={\"expensive\": False}\n",
        ")"
      ]
    },
    {
      "cell_type": "markdown",
      "metadata": {
        "id": "0GW2Aq1JYQ2n"
      },
      "source": [
        "To get an initial feel for the results, let's plot the 10 designs with the highest average reward after filtering out the states with 10 or fewer samples."
      ]
    },
    {
      "cell_type": "code",
      "execution_count": null,
      "metadata": {},
      "outputs": [],
      "source": [
        "import matplotlib.pyplot as plt\n",
        "from circuitree.viz import plot_network\n",
        "\n",
        "%matplotlib inline\n",
        "\n",
        "# Top 10 designs with at least 10 visits \n",
        "def robustness(state):\n",
        "    r = tree.graph.nodes[state].get(\"reward\", 0) \n",
        "    v = tree.graph.nodes[state].get(\"visits\", 1)\n",
        "    return r / v\n",
        "\n",
        "# Recall that only the \"terminal\" states are fully assembled circuits\n",
        "states = [s for s in tree.terminal_states if tree.graph.nodes[s][\"visits\"] > 10]\n",
        "top_10_states = sorted(states, key=robustness, reverse=True)[:10]\n",
        "\n",
        "# Plot the top 10 \n",
        "fig = plt.figure(figsize=(12, 5))\n",
        "plt.suptitle(\"Top 10 bistable circuits and their robustness\")\n",
        "for i, state in enumerate(top_10_states):\n",
        "    ax = fig.add_subplot(2, 5, i + 1)\n",
        "    \n",
        "    # The `viz.plot_network()` function plots SimpleNetwork-formatted strings\n",
        "    plot_network(\n",
        "        *grammar.parse_genotype(state), \n",
        "        ax=ax, \n",
        "        plot_labels=False, \n",
        "        node_shrink=0.6, \n",
        "        auto_shrink=0.8,\n",
        "        offset=0.75,\n",
        "        padding=0.4\n",
        "    )\n",
        "    r = tree.graph.nodes[state][\"reward\"]\n",
        "    v = tree.graph.nodes[state][\"visits\"]\n",
        "    ax.set_title(f\"{r / v:.2f} (n={v})\")\n",
        "    ax.set_xlim(-1.5, 1.5)\n",
        "    ax.set_ylim(-1.0, 1.8)"
      ]
    },
    {
      "cell_type": "markdown",
      "metadata": {},
      "source": [
        "Recall that our reward function is counting the number of different positive feedback loops. By that standard, our best solutions are great! Most contain 3 or 4 different PFLs. To visualize how the search evolved over sampling time, we can view the whole search graph at once using a *complexity layout*."
      ]
    },
    {
      "cell_type": "code",
      "execution_count": null,
      "metadata": {
        "colab": {
          "base_uri": "https://localhost:8080/",
          "height": 339
        },
        "id": "JAdrEyttZ8JC",
        "outputId": "a9931944-efd0-4113-aec3-61c9fb92b3f1"
      },
      "outputs": [],
      "source": [
        "from circuitree.viz import plot_complexity\n",
        "\n",
        "# Plotting options\n",
        "plot_kwargs = dict(\n",
        "    tree=tree,\n",
        "    aspect=1.5,\n",
        "    alpha=0.25,\n",
        "    n_to_highlight=10,  # number of top states to highlight\n",
        "    highlight_min_visits=10,  # only highlight states with 10+ visits\n",
        ")\n",
        "min_visits_per_move = 10\n",
        "\n",
        "## Plot\n",
        "fig = plt.figure(figsize=(13, 5))\n",
        "plt.suptitle(\"Search space for the Bistability game\")\n",
        "\n",
        "ax1 = fig.add_subplot(1, 2, 1)\n",
        "plt.title(\"All moves\")\n",
        "plot_complexity(fig=fig, ax=ax1, **plot_kwargs)\n",
        "\n",
        "ax2 = fig.add_subplot(1, 2, 2)\n",
        "plt.title(f\"Moves with {min_visits_per_move}+ visits\")\n",
        "plot_complexity(vlim=(min_visits_per_move, None), fig=fig, ax=ax2, **plot_kwargs)"
      ]
    },
    {
      "cell_type": "markdown",
      "metadata": {},
      "source": [
        "In a complexity layout, terminal topologies are arranged into layers based on their complexity, or the number of interactions in the circuit diagram. The width of the layer represents the number of topologies with that complexity, and topologies within a layer are sorted from most visited to least visited during the search. A line from a less complex topology $s_i$ to a more complex one $s_j$ indicates that the assembly move $s_i \\rightarrow s_j$ was visited at least once (left) or at least ten times (right). Finally, we use orange circles to highlight the top 10 topologies shown above.\n",
        "\n",
        "The graph on the left shows that the overall space is quite well sampled. In all the layers, even the least-visited states (on the right of each layer) have many incoming and outgoing edges, showing that many options were explored. If we only look at the moves with 10+ visits, the graph on the right shows that the search favored a subset of the overall graph that has a higher concentration of top solutions. This is great! It means that our search struck a good balance between exploring the overall space and focusing samples on high-reward areas."
      ]
    },
    {
      "cell_type": "markdown",
      "metadata": {},
      "source": [
        "### Visualizing a tree search\n",
        "\n",
        "To make a video of the search process, we will re-run the search, this time saving the tree object every 1,000 steps. To do that, we'll create a *callback* function that saves the tree to file. A callback is a function that is passed as an input to another function. If you supply the `callback` and `callback_every` arguments, `search_mcts()` will call your callback periodically during search. We can use callbacks to perform periodic backups, save progress metrics, or end the search early if a stopping condition is reached."
      ]
    },
    {
      "cell_type": "code",
      "execution_count": null,
      "metadata": {},
      "outputs": [],
      "source": [
        "# # Remember to delete the backup folder before re-running this cell!\n",
        "# # Otherwise, the video may contain multiple runs\n",
        "# !rm -r ./tree-backups\n",
        "\n",
        "from pathlib import Path\n",
        "from datetime import datetime\n",
        "\n",
        "today = datetime.now().strftime(\"%y%m%d\")\n",
        "\n",
        "# Make a folder for backups\n",
        "save_dir = Path(\"./tree-backups\")\n",
        "save_dir.mkdir(exist_ok=True)\n",
        "\n",
        "## Callbacks should have the following call signature: \n",
        "##       callback(tree, iteration, selection_path, simulated_node, reward)\n",
        "## We only need the first two arguments to do a backup.\n",
        "def save_tree_callback(tree: BistabilityTree, iteration: int, *args, **kwargs):\n",
        "    \"\"\"Saves the BistabilityTree to two files, a `.gml` file containing the \n",
        "    graph and a `.json` file with the other object attributes.\"\"\"\n",
        "    gml_file = save_dir.joinpath(f\"{today}_bistability_search_{iteration}.gml\")\n",
        "    json_file = save_dir.joinpath(f\"{today}_bistability_search_{iteration}.json\")\n",
        "    tree.to_file(gml_file, json_file)\n",
        "\n",
        "# Redo the search with periodic backup\n",
        "n_steps = 50_001\n",
        "tree = BistabilityTree(grammar=grammar, root=\"ABC::\")\n",
        "tree.search_mcts(\n",
        "    n_steps=n_steps,\n",
        "    progress_bar=True,\n",
        "    run_kwargs={\"expensive\": False},\n",
        "    callback=save_tree_callback,\n",
        "    callback_every=500, \n",
        "    callback_before_start=False,\n",
        ")\n",
        "print(\"Search complete!\")"
      ]
    },
    {
      "cell_type": "markdown",
      "metadata": {},
      "source": [
        "Then, we can make the video using `matplotlib`'s `animation` interface. This might take a few minutes to run."
      ]
    },
    {
      "cell_type": "code",
      "execution_count": null,
      "metadata": {},
      "outputs": [],
      "source": [
        "from matplotlib.animation import FuncAnimation\n",
        "\n",
        "# Load the saved data in order of iteration\n",
        "gml_files = sorted(save_dir.glob(\"*.gml\"), key=lambda f: int(f.stem.split(\"_\")[-1]))\n",
        "json_files = sorted(save_dir.glob(\"*.json\"), key=lambda f: int(f.stem.split(\"_\")[-1]))\n",
        "iterations = [int(f.stem.split(\"_\")[-1]) for f in gml_files]\n",
        "\n",
        "# Make an animation from each saved time-point\n",
        "anim_dir = Path(\"./animations\")\n",
        "anim_dir.mkdir(exist_ok=True)\n",
        "\n",
        "fig = plt.figure(figsize=(13, 5))\n",
        "ax1 = fig.add_subplot(1, 2, 1)\n",
        "ax1.set_title(\"All moves\")\n",
        "ax2 = fig.add_subplot(1, 2, 2)\n",
        "ax2.set_title(\"Moves with 10+ visits\")\n",
        "\n",
        "def render_frame(f: int):\n",
        "    \"\"\"Render frame `f` of the animation.\"\"\"\n",
        "    ax1.clear()\n",
        "    ax2.clear()\n",
        "    \n",
        "    tree = BistabilityTree.from_file(\n",
        "        gml_files[f], json_files[f], grammar_cls=SimpleNetworkGrammar\n",
        "    )\n",
        "    \n",
        "    plt.suptitle(f\"Iteration {iterations[f]}\")\n",
        "    ax1.set_title(\"All moves\")\n",
        "    ax2.set_title(\"Moves with 10+ visits\")\n",
        "    plot_complexity(fig=fig, ax=ax1, tree=tree, aspect=1.5, alpha=0.25)\n",
        "    plot_complexity(\n",
        "        fig=fig, \n",
        "        ax=ax2, \n",
        "        tree=tree, \n",
        "        aspect=1.5, \n",
        "        alpha=0.25, \n",
        "        vlim=(10, None),\n",
        "    )\n",
        "\n",
        "# Make the animation\n",
        "anim = FuncAnimation(fig, render_frame, frames=len(gml_files))\n",
        "anim_file = anim_dir.joinpath(f\"{today}_bistability.mp4\")\n",
        "\n",
        "# Save the animation\n",
        "anim.save(\n",
        "    anim_file, \n",
        "    writer=\"ffmpeg\", \n",
        "    fps=10, \n",
        "    progress_callback=lambda i, n: print(f\"{i + 1} / {n}\")\n",
        ")\n",
        "print(f\"Saved to: {anim_file}\")\n",
        "\n",
        "plt.close(fig)"
      ]
    },
    {
      "cell_type": "markdown",
      "metadata": {},
      "source": [
        "Now let's watch the video!"
      ]
    },
    {
      "cell_type": "code",
      "execution_count": null,
      "metadata": {},
      "outputs": [],
      "source": [
        "import moviepy.editor\n",
        "\n",
        "moviepy.editor.ipython_display(str(anim_file))"
      ]
    },
    {
      "cell_type": "markdown",
      "metadata": {},
      "source": [
        "---"
      ]
    },
    {
      "cell_type": "markdown",
      "metadata": {},
      "source": [
        "## Addendum: Custom grammars\n",
        "\n",
        "The `circuitree.models` module contains the `SimpleNetworkGrammar` for pairwise interaction networks and the (experimental) `DimersNetworkGrammar` for networks where pairs of components dimerize to regulate a third. For any other applications, you should make your own grammar class by subclassing `CircuitGrammar`. \n",
        "\n",
        "`CircuitGrammar` is an *abstract* class, which means that in order to use it, we must create a subclass that defines certain methods."
      ]
    },
    {
      "cell_type": "code",
      "execution_count": null,
      "metadata": {},
      "outputs": [],
      "source": [
        "from circuitree import CircuitGrammar\n",
        "\n",
        "print(f\"To make a CircuitGrammar, define a subclass with the following methods:\")\n",
        "print(*[f\"\\t{m}\" for m in CircuitGrammar.__abstractmethods__], sep=\"\\n\")"
      ]
    },
    {
      "cell_type": "markdown",
      "metadata": {},
      "source": [
        "Here's a description of each method's call signature and what it should do:\n",
        "\n",
        "```    \n",
        ".is_terminal(state) -> bool      # Return whether or not this state is terminal\n",
        ".get_actions(state) -> list[str] # Return a list of actions that can be taken from this state\n",
        ".do_action(state, action) -> str # Return a new state as a result of making this move\n",
        ".get_unique_state(state) -> str  # Return a unique representation of this state \n",
        "                                   ## NOTE: This is used to account for cases where multiple\n",
        "                                   ## state strings represent the same architecture\n",
        "```\n",
        "\n",
        "As an example, let's write a grammar for an existing design space, explored by Angela Chau and colleagues in [this seminal paper](https://dx.doi.org/10.1016/j.cell.2012.08.040) to find polarization circuits. The authors were studying all possible network topologies with two membrane-bound enzymes A and B that have active and inactive forms, where each species can catalyze the forward and reverse reactions of the other species or of itself (autocatalysis). In other words, any of the four pairwise interactions can be present, and they can be either activating or inhibiting.\n",
        "\n",
        "First, let's decide how to represent such a circuit as a string of characters. (Any `Hashable` representation can be used, but strings are convenient.) Let's use the following convention, which is the same one used by `SimpleNetworkGrammar`:\n",
        "* Each component is an uppercase letter (`A` and `B` for enzymes A and B)\n",
        "* Each type of interaction is a lowercase letter (`a` and `i` for activation and inhibition)\n",
        "* Terminated states start with the prefix `*`\n",
        "* The left side of the state string contains the components that are present (`AB`) \n",
        "* The right side of the state string contains the interactions in the circuit. \n",
        "    - Each interaction has a 3-character code. `BAa` can be read as \"B activates A\"\n",
        "    - Multiple interactions are separated by `_`\n",
        "* Components and interactions are separated by `::`\n",
        "\n",
        "For instance, the toggle switch circuit can be written as the state string `*AB::ABi_BAi` - a fully assembled circuit (`*`) with components `A` and `B` (`AB`) that inhibit each other (`ABi_BAi`).\n",
        "\n",
        "Let's write this grammar as a class."
      ]
    },
    {
      "cell_type": "code",
      "execution_count": null,
      "metadata": {},
      "outputs": [],
      "source": [
        "class PolarizationGrammar(CircuitGrammar):\n",
        "    def __init__(self, *args, **kwargs):\n",
        "        super().__init__(*args, **kwargs)\n",
        "        \n",
        "    def is_terminal(self, state: str) -> bool:\n",
        "        \"\"\"Returns True if the state is terminal and the game has ended.\"\"\"\n",
        "        return state.startswith(\"*\")\n",
        "    \n",
        "    def get_actions(self, state: str) -> list[str]:\n",
        "        \"\"\"Returns a list of all possible actions from the given state.\"\"\"\n",
        "        # If termination hasn't happened yet, it's always a possibiilty\n",
        "        if self.is_terminal(state):\n",
        "            return []\n",
        "        actions = [\"*terminate*\"]\n",
        "        \n",
        "        # Get the part of the string that contains the interactions\n",
        "        interactions = state.split(\"::\")[1]\n",
        "        \n",
        "        # Any pair of components that don't yet interact can interact. \n",
        "        # The possible actions are 3-character codes that could be added.\n",
        "        for pair in (\"AA\", \"AB\", \"BA\", \"BB\"):\n",
        "            if pair not in interactions:\n",
        "                actions.append(pair + \"a\")\n",
        "                actions.append(pair + \"i\")\n",
        "        return actions\n",
        "\n",
        "    def do_action(self, state, action):\n",
        "        \"\"\"Returns the new state after taking the given action\"\"\"\n",
        "        if action == \"*terminate*\":\n",
        "            return \"*\" + state\n",
        "\n",
        "        prefix, interactions = state.split(\"::\")\n",
        "        if len(interactions) == 0:\n",
        "            return f\"{prefix}::{action}\"\n",
        "        else:\n",
        "            return f\"{prefix}::{interactions}_{action}\"\n",
        "    \n",
        "    def get_unique_state(self, state):\n",
        "        \"\"\"Returns a unique representation of the state. Reorders \n",
        "        interactions alphabetically.\"\"\"\n",
        "        prefix, interactions = state.split(\"::\")\n",
        "        if len(interactions) == 0:\n",
        "            return state # No interactions to sort\n",
        "        else:\n",
        "            interactions_list = interactions.split(\"_\")\n",
        "            interactions = \"_\".join(sorted(interactions_list))\n",
        "            return f\"{prefix}::{interactions}\""
      ]
    },
    {
      "cell_type": "markdown",
      "metadata": {},
      "source": [
        "```\n",
        ">>> grammar = PolarizationGrammar()\n",
        ">>> grammar.is_terminal(\"*AB::AAa\")              # True\n",
        ">>> grammar.get_actions(\"AB::ABa_BAi\")           # ['*terminate*', 'AAa', 'AAi', 'BBa', 'BBi']\n",
        ">>> grammar.do_action(\"AB::ABa_BAi\", \"AAa\")      # 'AB::ABa_BAi_AAa'\n",
        ">>> grammar.get_unique_state(\"*AB::ABa_BAi_AAa\") # '*AB::AAa_ABa_BAi'\n",
        "```\n",
        "The original paper examined all 81 of the possible topologies in this space. We can enumerate the entire search space using `CircuiTree.grow_tree()`."
      ]
    },
    {
      "cell_type": "code",
      "execution_count": null,
      "metadata": {},
      "outputs": [],
      "source": [
        "class PolarizationTree(CircuiTree):\n",
        "    def __init__(self, *args, **kwargs):\n",
        "        # Specify the grammar and root state\n",
        "        kwargs = {\"grammar\": PolarizationGrammar(), \"root\": \"AB::\"} | kwargs\n",
        "        super().__init__(*args, **kwargs)\n",
        "    \n",
        "    def get_reward(self, state):\n",
        "        # We're not running a search, so no need to implement this\n",
        "        raise NotImplementedError\n",
        "\n",
        "\n",
        "from pprint import pprint\n",
        "\n",
        "tree = PolarizationTree()\n",
        "\n",
        "# Recursively builds the entire search graph - all states and state-action pairs\n",
        "tree.grow_tree()\n",
        "\n",
        "terminal_states = list(tree.terminal_states)\n",
        "print(f\"# terminal states: {len(terminal_states)}\")\n",
        "print()\n",
        "print(\"All terminal topologies:\")\n",
        "pprint(terminal_states)"
      ]
    },
    {
      "cell_type": "markdown",
      "metadata": {},
      "source": [
        "Note that if your design space is large, `grow_tree()` can take an extremely long time and/or cause an out-of-memory error."
      ]
    },
    {
      "cell_type": "markdown",
      "metadata": {},
      "source": [
        "---"
      ]
    },
    {
      "cell_type": "code",
      "execution_count": null,
      "metadata": {},
      "outputs": [],
      "source": [
        "%load_ext watermark\n",
        "%watermark -v -p circuitree,numpy,matplotlib,tqdm,jupyterlab,ipympl,ffmpeg,moviepy,watermark"
      ]
    }
  ],
  "metadata": {
    "colab": {
      "provenance": []
    },
    "kernelspec": {
      "display_name": ".venv",
      "language": "python",
      "name": "python3"
    },
    "language_info": {
      "codemirror_mode": {
        "name": "ipython",
        "version": 3
      },
      "file_extension": ".py",
      "mimetype": "text/x-python",
      "name": "python",
      "nbconvert_exporter": "python",
      "pygments_lexer": "ipython3",
      "version": "3.10.8"
    },
    "orig_nbformat": 4
  },
  "nbformat": 4,
  "nbformat_minor": 0
}
